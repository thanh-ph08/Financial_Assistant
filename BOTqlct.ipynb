{
  "cells": [
    {
      "cell_type": "code",
      "execution_count": null,
      "metadata": {
        "colab": {
          "base_uri": "https://localhost:8080/",
          "height": 842
        },
        "collapsed": true,
        "id": "QvlLYx-8FNMu",
        "outputId": "f41d5c70-e983-41ce-e800-61d317261c89"
      },
      "outputs": [
        {
          "name": "stdout",
          "output_type": "stream",
          "text": [
            "Collecting discord.py\n",
            "  Downloading discord_py-2.5.2-py3-none-any.whl.metadata (7.4 kB)\n",
            "Requirement already satisfied: aiohttp<4,>=3.7.4 in /usr/local/lib/python3.11/dist-packages (from discord.py) (3.11.13)\n",
            "Requirement already satisfied: aiohappyeyeballs>=2.3.0 in /usr/local/lib/python3.11/dist-packages (from aiohttp<4,>=3.7.4->discord.py) (2.6.1)\n",
            "Requirement already satisfied: aiosignal>=1.1.2 in /usr/local/lib/python3.11/dist-packages (from aiohttp<4,>=3.7.4->discord.py) (1.3.2)\n",
            "Requirement already satisfied: attrs>=17.3.0 in /usr/local/lib/python3.11/dist-packages (from aiohttp<4,>=3.7.4->discord.py) (25.2.0)\n",
            "Requirement already satisfied: frozenlist>=1.1.1 in /usr/local/lib/python3.11/dist-packages (from aiohttp<4,>=3.7.4->discord.py) (1.5.0)\n",
            "Requirement already satisfied: multidict<7.0,>=4.5 in /usr/local/lib/python3.11/dist-packages (from aiohttp<4,>=3.7.4->discord.py) (6.1.0)\n",
            "Requirement already satisfied: propcache>=0.2.0 in /usr/local/lib/python3.11/dist-packages (from aiohttp<4,>=3.7.4->discord.py) (0.3.0)\n",
            "Requirement already satisfied: yarl<2.0,>=1.17.0 in /usr/local/lib/python3.11/dist-packages (from aiohttp<4,>=3.7.4->discord.py) (1.18.3)\n",
            "Requirement already satisfied: idna>=2.0 in /usr/local/lib/python3.11/dist-packages (from yarl<2.0,>=1.17.0->aiohttp<4,>=3.7.4->discord.py) (3.10)\n",
            "Downloading discord_py-2.5.2-py3-none-any.whl (1.2 MB)\n",
            "\u001b[2K   \u001b[90m━━━━━━━━━━━━━━━━━━━━━━━━━━━━━━━━━━━━━━━━\u001b[0m \u001b[32m1.2/1.2 MB\u001b[0m \u001b[31m10.9 MB/s\u001b[0m eta \u001b[36m0:00:00\u001b[0m\n",
            "\u001b[?25hInstalling collected packages: discord.py\n",
            "Successfully installed discord.py-2.5.2\n",
            "Collecting groq\n",
            "  Downloading groq-0.19.0-py3-none-any.whl.metadata (15 kB)\n",
            "Requirement already satisfied: anyio<5,>=3.5.0 in /usr/local/lib/python3.11/dist-packages (from groq) (3.7.1)\n",
            "Requirement already satisfied: distro<2,>=1.7.0 in /usr/local/lib/python3.11/dist-packages (from groq) (1.9.0)\n",
            "Requirement already satisfied: httpx<1,>=0.23.0 in /usr/local/lib/python3.11/dist-packages (from groq) (0.28.1)\n",
            "Requirement already satisfied: pydantic<3,>=1.9.0 in /usr/local/lib/python3.11/dist-packages (from groq) (2.10.6)\n",
            "Requirement already satisfied: sniffio in /usr/local/lib/python3.11/dist-packages (from groq) (1.3.1)\n",
            "Requirement already satisfied: typing-extensions<5,>=4.10 in /usr/local/lib/python3.11/dist-packages (from groq) (4.12.2)\n",
            "Requirement already satisfied: idna>=2.8 in /usr/local/lib/python3.11/dist-packages (from anyio<5,>=3.5.0->groq) (3.10)\n",
            "Requirement already satisfied: certifi in /usr/local/lib/python3.11/dist-packages (from httpx<1,>=0.23.0->groq) (2025.1.31)\n",
            "Requirement already satisfied: httpcore==1.* in /usr/local/lib/python3.11/dist-packages (from httpx<1,>=0.23.0->groq) (1.0.7)\n",
            "Requirement already satisfied: h11<0.15,>=0.13 in /usr/local/lib/python3.11/dist-packages (from httpcore==1.*->httpx<1,>=0.23.0->groq) (0.14.0)\n",
            "Requirement already satisfied: annotated-types>=0.6.0 in /usr/local/lib/python3.11/dist-packages (from pydantic<3,>=1.9.0->groq) (0.7.0)\n",
            "Requirement already satisfied: pydantic-core==2.27.2 in /usr/local/lib/python3.11/dist-packages (from pydantic<3,>=1.9.0->groq) (2.27.2)\n",
            "Downloading groq-0.19.0-py3-none-any.whl (122 kB)\n",
            "\u001b[2K   \u001b[90m━━━━━━━━━━━━━━━━━━━━━━━━━━━━━━━━━━━━━━━━\u001b[0m \u001b[32m122.2/122.2 kB\u001b[0m \u001b[31m2.7 MB/s\u001b[0m eta \u001b[36m0:00:00\u001b[0m\n",
            "\u001b[?25hInstalling collected packages: groq\n",
            "Successfully installed groq-0.19.0\n",
            "Requirement already satisfied: nest_asyncio in /usr/local/lib/python3.11/dist-packages (1.6.0)\n",
            "Collecting asyncio\n",
            "  Downloading asyncio-3.4.3-py3-none-any.whl.metadata (1.7 kB)\n",
            "Downloading asyncio-3.4.3-py3-none-any.whl (101 kB)\n",
            "\u001b[2K   \u001b[90m━━━━━━━━━━━━━━━━━━━━━━━━━━━━━━━━━━━━━━━━\u001b[0m \u001b[32m101.8/101.8 kB\u001b[0m \u001b[31m1.9 MB/s\u001b[0m eta \u001b[36m0:00:00\u001b[0m\n",
            "\u001b[?25hInstalling collected packages: asyncio\n",
            "Successfully installed asyncio-3.4.3\n"
          ]
        },
        {
          "data": {
            "application/vnd.colab-display-data+json": {
              "id": "69a8e3814cf0483cb281ab96877a1425",
              "pip_warning": {
                "packages": [
                  "asyncio"
                ]
              }
            }
          },
          "metadata": {},
          "output_type": "display_data"
        }
      ],
      "source": [
        "!pip install discord.py\n",
        "!pip install groq\n",
        "!pip install nest_asyncio\n",
        "!pip install asyncio"
      ]
    },
    {
      "cell_type": "code",
      "execution_count": null,
      "metadata": {
        "id": "tZHJ-gWjF0Hg"
      },
      "outputs": [],
      "source": [
        "import discord\n",
        "from discord.ext import commands\n",
        "import os\n",
        "import csv\n",
        "from datetime import datetime\n",
        "from groq import Groq\n",
        "from google.colab import drive\n",
        "from google.colab import output\n",
        "import asyncio\n",
        "import nest_asyncio\n",
        "import json\n",
        "import re\n",
        "import ast"
      ]
    },
    {
      "cell_type": "code",
      "execution_count": null,
      "metadata": {
        "colab": {
          "base_uri": "https://localhost:8080/"
        },
        "id": "dAH6vY6HF0Fx",
        "outputId": "121ae9e8-2b63-42b4-e2e9-02adce603c78"
      },
      "outputs": [
        {
          "name": "stdout",
          "output_type": "stream",
          "text": [
            "Drive already mounted at /content/drive; to attempt to forcibly remount, call drive.mount(\"/content/drive\", force_remount=True).\n"
          ]
        }
      ],
      "source": [
        "from google.colab import drive\n",
        "from google.colab import output\n",
        "drive.mount('/content/drive')"
      ]
    },
    {
      "cell_type": "code",
      "execution_count": null,
      "metadata": {
        "colab": {
          "base_uri": "https://localhost:8080/"
        },
        "id": "ehgz_ZEXF0EW",
        "outputId": "09c1bbeb-d0f3-40ce-f4df-b03a0f1553f7"
      },
      "outputs": [
        {
          "name": "stderr",
          "output_type": "stream",
          "text": [
            "WARNING:discord.client:PyNaCl is not installed, voice will NOT be supported\n"
          ]
        }
      ],
      "source": [
        "api_key = \"GROQ_API_KEY\"\n",
        "client = Groq(api_key=api_key)\n",
        "nest_asyncio.apply()\n",
        "intents = discord.Intents.default()\n",
        "intents.messages = True\n",
        "intents.message_content = True\n",
        "bot = commands.Bot(command_prefix=\"!\", intents=intents)\n",
        "\n",
        "USER_DATA_DIR = '/content/drive/MyDrive/Colab Notebooks/UserData'\n",
        "history_file_path = '/content/drive/My Drive/expense_history.json'\n",
        "\n",
        "if not os.path.exists(history_file_path):\n",
        "    with open(history_file_path, 'w') as file:\n",
        "        json.dump([], file)"
      ]
    },
    {
      "cell_type": "code",
      "execution_count": null,
      "metadata": {
        "id": "lMmT0EiTiE-Q"
      },
      "outputs": [],
      "source": [
        "def load_history():\n",
        "    with open(history_file_path, 'r') as file:\n",
        "        return json.load(file)"
      ]
    },
    {
      "cell_type": "code",
      "execution_count": null,
      "metadata": {
        "id": "qJHSKIbiiEqA"
      },
      "outputs": [],
      "source": [
        "def save_history(message, result):\n",
        "    # Lấy dữ liệu lịch sử cũ\n",
        "    history = load_history()\n",
        "\n",
        "    # Thêm tin nhắn người dùng và kết quả vào lịch sử\n",
        "    history.append({\n",
        "        \"message\": message,\n",
        "        \"result\": result\n",
        "    })\n",
        "\n",
        "    # Lưu lại lịch sử vào Google Drive\n",
        "    with open(history_file_path, 'w') as file:\n",
        "        json.dump(history, file)\n"
      ]
    },
    {
      "cell_type": "code",
      "execution_count": null,
      "metadata": {
        "id": "92WUkJgAF0C_"
      },
      "outputs": [],
      "source": [
        "def create_csv(user_id):\n",
        "    file_path = os.path.join(USER_DATA_DIR, f'{user_id}_expenses.csv')\n",
        "    header = ['Ngày', 'Mục chi', 'Số tiền', 'Mô tả']\n",
        "\n",
        "    with open(file_path, mode='w', newline='', encoding='utf-8') as f: #w mode để nếu chưa có file thì tạo file mới\n",
        "        writer = csv.writer(f)\n",
        "        writer.writerow(header)\n",
        "    return file_path"
      ]
    },
    {
      "cell_type": "code",
      "execution_count": null,
      "metadata": {
        "id": "b5r25OX5Fz_e"
      },
      "outputs": [],
      "source": [
        "async def send_csv_to_user(user_id, channel):\n",
        "    file_path = os.path.join(USER_DATA_DIR, f'{user_id}_expenses.csv')\n",
        "    if os.path.exists(file_path):\n",
        "\n",
        "        with open(file_path, 'rb') as f: # rb để ở chế độ đọc nhị phân để gửi file\n",
        "            await channel.send(file=discord.File(f, f'{user_id}_expenses.csv'))\n",
        "    else:\n",
        "        await channel.send(\"Bạn chưa có dữ liệu chi tiêu nào.\")"
      ]
    },
    {
      "cell_type": "code",
      "execution_count": null,
      "metadata": {
        "id": "BRVWWt1ZRpUG"
      },
      "outputs": [],
      "source": [
        "async def send_month_csv_to_user(user_id, channel,new_file_path):\n",
        "    if os.path.exists(new_file_path):\n",
        "        with open(new_file_path, 'rb') as f: # rb để ở chế độ đọc nhị phân để gửi file\n",
        "            await channel.send(file=discord.File(f, f'{user_id}_expenses.csv'))\n",
        "    else:\n",
        "        await channel.send(\"Bạn chưa có dữ liệu chi tiêu nào.\")"
      ]
    },
    {
      "cell_type": "code",
      "execution_count": null,
      "metadata": {
        "id": "howARrfd33Vu"
      },
      "outputs": [],
      "source": [
        "def check_expense_exists(user_id, date, category, description):\n",
        "    file_path = os.path.join(USER_DATA_DIR, f'{user_id}_expenses.csv')\n",
        "\n",
        "    # Kiểm tra nếu file không tồn tại\n",
        "    if not os.path.exists(file_path):\n",
        "        return False\n",
        "\n",
        "    # Đọc tệp CSV và kiểm tra dữ liệu\n",
        "    with open(file_path, mode='r', encoding='utf-8') as f:\n",
        "        reader = csv.reader(f)\n",
        "        next(reader)  # Bỏ qua dòng header\n",
        "\n",
        "        for row in reader:\n",
        "            # row[0] là Ngày, row[1] là Mục chi, row[2] là Số tiền, row[3] là Mô tả\n",
        "            if (row[0] == date and row[3] == description):\n",
        "                return True  # Nếu tìm thấy chi tiêu phù hợp\n",
        "\n",
        "    return False  # Nếu không tìm thấy chi tiêu phù hợp\n"
      ]
    },
    {
      "cell_type": "code",
      "execution_count": null,
      "metadata": {
        "id": "72IkTKd7Fz7a"
      },
      "outputs": [],
      "source": [
        "def save_expense_to_csv(user_id, date, category, amount, description, new_description):\n",
        "    file_path = os.path.join(USER_DATA_DIR, f'{user_id}_expenses.csv')\n",
        "\n",
        "    if not os.path.exists(file_path):\n",
        "        file_path = create_csv(user_id)\n",
        "\n",
        "\n",
        "    with open(file_path, mode='a', newline='', encoding='utf-8') as f:# a mode để append vô cuối file mà k  ảnh hưởng các data trước\n",
        "        writer = csv.writer(f)\n",
        "        writer.writerow([date, category, amount, description])"
      ]
    },
    {
      "cell_type": "code",
      "execution_count": null,
      "metadata": {
        "id": "o6W0X6nbFz3l"
      },
      "outputs": [],
      "source": [
        "def update_expense(user_id, date, category, amount, description,new_description):\n",
        "    file_path = os.path.join(USER_DATA_DIR, f'{user_id}_expenses.csv')\n",
        "    if os.path.exists(file_path):\n",
        "        updated_rows = []\n",
        "        with open(file_path, mode='r', encoding='utf-8') as f: #r mode chi đọc data\n",
        "            reader = csv.reader(f)\n",
        "            header = next(reader)\n",
        "            updated_rows.append(header)  #giữ lại header\n",
        "            for row in reader:\n",
        "                if row[0] == date and description.lower() in row[3].lower() and description !=\"\":\n",
        "                    updated_rows.append([date, category, amount, new_description])\n",
        "                    print(\"Update successfully\")\n",
        "                else:\n",
        "                    updated_rows.append(row)\n",
        "\n",
        "\n",
        "        with open(file_path, mode='w', newline='', encoding='utf-8') as f:\n",
        "            writer = csv.writer(f)\n",
        "            writer.writerows(updated_rows)"
      ]
    },
    {
      "cell_type": "code",
      "execution_count": null,
      "metadata": {
        "id": "I22RETdSFz04"
      },
      "outputs": [],
      "source": [
        "def delete_expense(user_id, date, category, description, new_description):\n",
        "    file_path = os.path.join(USER_DATA_DIR, f'{user_id}_expenses.csv')\n",
        "    if os.path.exists(file_path):\n",
        "\n",
        "        updated_rows = []\n",
        "        with open(file_path, mode='r', encoding='utf-8') as f:\n",
        "            reader = csv.reader(f)\n",
        "            header = next(reader)\n",
        "            updated_rows.append(header)\n",
        "\n",
        "            for row in reader:\n",
        "                if not (row[0] == date and description.lower() in row[3].lower() and description !=\"\"):\n",
        "                    updated_rows.append(row)\n",
        "\n",
        "\n",
        "        with open(file_path, mode='w', newline='', encoding='utf-8') as f:\n",
        "            writer = csv.writer(f)\n",
        "            writer.writerows(updated_rows)\n",
        "\n"
      ]
    },
    {
      "cell_type": "code",
      "execution_count": null,
      "metadata": {
        "id": "N6TwMGbvIe2y"
      },
      "outputs": [],
      "source": [
        "def get_total_expenses_by_month(user_id, date=None):\n",
        "\n",
        "    file_path = os.path.join(USER_DATA_DIR, f'{user_id}_expenses.csv')\n",
        "\n",
        "    if not os.path.exists(file_path):\n",
        "        return 0  # Nếu không có dữ liệu chi tiêu, trả về 0\n",
        "\n",
        "    total_expenses = 0\n",
        "\n",
        "    with open(file_path, mode='r', encoding='utf-8') as f:\n",
        "        reader = csv.reader(f)\n",
        "        header = next(reader)  # Đọc header và bỏ qua\n",
        "        for row in reader:\n",
        "            expense_date = row[0]  # Ngày chi tiêu\n",
        "            if date:  # Nếu có tháng cụ thể\n",
        "                if expense_date.startswith(date):  # Kiểm tra nếu ngày chi tiêu nằm trong tháng yêu cầu\n",
        "                    total_expenses += float(row[2])  # Thêm số tiền chi tiêu vào tổng\n",
        "            else:  # Nếu không có tháng cụ thể, tính tổng toàn bộ\n",
        "                total_expenses += float(row[2])\n",
        "\n",
        "    return total_expenses\n"
      ]
    },
    {
      "cell_type": "code",
      "execution_count": null,
      "metadata": {
        "id": "ZgSv38giIjii"
      },
      "outputs": [],
      "source": [
        "def get_category_expenses_by_month(user_id, date=None, category=None):\n",
        "\n",
        "    file_path = os.path.join(USER_DATA_DIR, f'{user_id}_expenses.csv')\n",
        "\n",
        "    if not os.path.exists(file_path):\n",
        "        return 0  # Nếu không có dữ liệu chi tiêu, trả về 0\n",
        "\n",
        "    total_expenses = 0\n",
        "\n",
        "    with open(file_path, mode='r', encoding='utf-8') as f:\n",
        "        reader = csv.reader(f)\n",
        "        header = next(reader)  # Đọc header và bỏ qua\n",
        "        for row in reader:\n",
        "            expense_date = row[0]  # Ngày chi tiêu\n",
        "            expense_category = row[1]  # Mục chi tiêu\n",
        "            if category and expense_category.lower() == category.lower():  # Nếu có danh mục\n",
        "                if date:  # Nếu có tháng cụ thể\n",
        "                    if expense_date.startswith(date):  # Kiểm tra nếu ngày chi tiêu nằm trong tháng yêu cầu\n",
        "                        total_expenses += float(row[2])  # Thêm số tiền chi tiêu vào tổng\n",
        "                else:  # Nếu không có tháng cụ thể\n",
        "                    total_expenses += float(row[2])\n",
        "\n",
        "    return total_expenses\n"
      ]
    },
    {
      "cell_type": "code",
      "execution_count": null,
      "metadata": {
        "id": "yCoIz8dKOF7r"
      },
      "outputs": [],
      "source": [
        "def filter_expenses_by_month(user_id, year_month):\n",
        "    # Đường dẫn tới file CSV chính của người dùng\n",
        "    file_path = os.path.join(USER_DATA_DIR, f'{user_id}_expenses.csv')\n",
        "\n",
        "    # Kiểm tra xem file có tồn tại không\n",
        "    if not os.path.exists(file_path):\n",
        "        return f\"File {file_path} không tồn tại.\"\n",
        "\n",
        "    # Lọc các chi tiêu theo tháng\n",
        "    filtered_expenses = []\n",
        "\n",
        "    with open(file_path, mode='r', newline='', encoding='utf-8') as f:\n",
        "        reader = csv.DictReader(f)\n",
        "        for row in reader:\n",
        "            # Kiểm tra nếu ngày chi tiêu có chứa năm và tháng yêu cầu\n",
        "            date = row['Ngày']\n",
        "            if date and date.startswith(year_month):\n",
        "                filtered_expenses.append(row)\n",
        "\n",
        "    if not filtered_expenses:\n",
        "        return f\"Không có chi tiêu nào cho tháng {year_month}.\"\n",
        "\n",
        "    # Tạo file CSV chứa chi tiêu của tháng đó\n",
        "    new_file_path = os.path.join(USER_DATA_DIR, f'{user_id}_expenses_{year_month}.csv')\n",
        "\n",
        "    header = ['Ngày', 'Mục chi', 'Số tiền', 'Mô tả']\n",
        "\n",
        "    with open(new_file_path, mode='w', newline='', encoding='utf-8') as f:\n",
        "        writer = csv.DictWriter(f, fieldnames=header)\n",
        "        writer.writeheader()\n",
        "        writer.writerows(filtered_expenses)\n",
        "    return new_file_path\n"
      ]
    },
    {
      "cell_type": "code",
      "execution_count": null,
      "metadata": {
        "id": "2nHspdsF7uW3"
      },
      "outputs": [],
      "source": [
        "def load_latest_expense(user_id):\n",
        "    file_path = os.path.join(USER_DATA_DIR, f'{user_id}_expenses.csv')\n",
        "\n",
        "    if not os.path.exists(file_path):\n",
        "        return None  # Nếu không có tệp CSV\n",
        "\n",
        "    with open(file_path, mode='r', encoding='utf-8') as f:\n",
        "        reader = csv.reader(f)\n",
        "        next(reader)  # Bỏ qua dòng header\n",
        "\n",
        "        # Đọc chi tiêu mới nhất (dòng cuối cùng)\n",
        "        last_row = None\n",
        "        for row in reader:\n",
        "            last_row = row  # Cập nhật dòng cuối cùng\n",
        "        if last_row:\n",
        "            return {\n",
        "                'date': last_row[0],\n",
        "                'category': last_row[1],\n",
        "                'amount': last_row[2],\n",
        "                'description': last_row[3]\n",
        "            }\n",
        "    return None"
      ]
    },
    {
      "cell_type": "code",
      "execution_count": null,
      "metadata": {
        "id": "4Uy8bRNKISdd"
      },
      "outputs": [],
      "source": [
        "def get_today_date():\n",
        "    return datetime.today().strftime('%Y-%m-%d')"
      ]
    },
    {
      "cell_type": "code",
      "execution_count": null,
      "metadata": {
        "id": "4ERp40trFzyL"
      },
      "outputs": [],
      "source": [
        "def analyze_message_with_history(message,user_id):\n",
        "    # Tải lịch sử phân tích\n",
        "    history = load_history()\n",
        "\n",
        "    # Chuẩn bị các thông tin lịch sử để thêm vào prompt\n",
        "    history_messages = \"\\n\".join([f\"Previous analysis: {entry['message']} - Result: {entry['result']}\" for entry in history])\n",
        "\n",
        "    system_prompt = fsystem_prompt = f\"\"\"\n",
        "You are an advanced expense tracking assistant.\n",
        "Given a user's message, your task is to extract the following information:\n",
        "- The action: add, update, delete, smonth, or total.\n",
        "- The amount: the amount of money (in VND).\n",
        "- The date: the date of the expense (if not mentioned, return nothing).\n",
        "- The category: the category of the expense (just food, transportation, eat, gift, holiday, tool, stationery, others).\n",
        "- The description: an optional description of the expense (if provided).\n",
        "- If this is an update action, please include the new description.\n",
        "\n",
        "For the 'total' action, if the message does not specify a date:\n",
        "    - Assume the user is requesting the total expenses for all time.\n",
        "    - If a specific month or year is mentioned (e.g. \"Tổng chi tiêu tháng 2025-03\"), return the total expenses for that month.\n",
        "    - If a category is provided, return the total for that category within the specified month.\n",
        "    - If both category and date are given, calculate the total expenses for that category in the specified month.\n",
        "\n",
        "  The response should be a list in the following format:\n",
        "    [action, amount, date, category, description, new_description]\n",
        "\n",
        "Example 1:\n",
        "\"tôi chi 50k để ăn trưa ở nhà hàng\" → The system should recognize this as an expense with description \"ăn trưa ở nhà hàng\".\n",
        "respond: ['add', 50000, '', 'food', 'ăn trưa ở nhà hàng', '']\n",
        "Example 2:\n",
        "\"không ăn trưa mà mua xe hết 10 tỉ đồng\" → This should be interpreted as an **update** action, where the old description is \"ăn trưa\" and the new description is \"mua xe\" and category should be \"transportation\".\n",
        "respond: ['update', 100000, '', 'transportation', 'ăn trưa', 'mua xe']\n",
        "Example 3:\n",
        "\"Tổng chi tiêu tháng 2025-03\" → The system should recognize this as a **total** action and return the total for March 2025.\n",
        "respond: ['total', '', '2025-03', '', '', '']\n",
        "Example 4:\n",
        "\"Tổng chi tiêu cho category food tháng 2025-03\" → The system should recognize this as a **total** action and return the total for category 'food' in March 2025.\n",
        "respond: ['total', '', '2025-03', 'food', '', '']\n",
        "Example 5:\n",
        "\"Hôm nay tôi không đi bus\" → The system should recognize this as a **delete** action .\n",
        "respond: ['delete', '', '', '', 'bus', '']\n",
        "Example 6:\n",
        "\"Chi tiêu trong tháng 1 năm 2020\" hoặc \"In ra chi tiêu trong tháng 1 năm 2020\" → The system should recognize this as a **smonth** action.\n",
        "respond: ['smonth', '', '2020-01', '', '', '']\n",
        "Example 7:\n",
        "\"Nhầm 600tr mới đúng\" hoặc \"600tr cơ\" -> The system should recognize this as an **update** action, cơ = mới đúng.\n",
        "respond: ['update', 600000000, '', '', '', '']\n",
        "Example 8:\n",
        "\"Nhầm không có mua (cái này)\" hoặc \"Không có mua (cái này)\" -> The system should recognize this as an **delete** action.\n",
        "respond: ['delete', '', '', '', '', '']\n",
        "Special instructions:\n",
        "- If the message contains phrases such as \"I made a mistake\", \"correct\", \"update\", or similar, the action should be \"update\".\n",
        "- \"I made a mistake\", \"mới đúng\", \"update\", \"change\", \"replace\", or \"no longer\",\"không... mà\", it should be treated as an update action.\n",
        "- If the message contains phrases such as \"xóa\", or similar, the action should be \"delete\".\n",
        "- Nếu người dùng bảo hôm nay hoặc không có ngày thì để trống ô date\n",
        "- Bắt buộc phải có \"tổng\" hoặc \"tiền\" thì mới trả ra \"total\", nếu không hoặc những câu liên qua sẽ là \"smonth\"\n",
        "\"\"\"\n",
        "\n",
        "\n",
        "    user_prompt = f\"USER MESSAGE: {message}\"\n",
        "\n",
        "    try:\n",
        "        # Gửi yêu cầu tới LLM\n",
        "        chat_completion = client.chat.completions.create(\n",
        "            messages=[{\n",
        "                \"role\": \"system\",\n",
        "                \"content\": system_prompt,\n",
        "            }, {\n",
        "                \"role\": \"user\",\n",
        "                \"content\": user_prompt,\n",
        "            }],\n",
        "            model=\"llama-3.3-70b-versatile\",\n",
        "            temperature=0.5,\n",
        "            max_completion_tokens=1024,\n",
        "            top_p=1,\n",
        "            stop=None,\n",
        "            stream=False,\n",
        "        )\n",
        "\n",
        "        # Nhận kết quả trả về từ LLM\n",
        "        result = chat_completion.choices[0].message.content.strip()\n",
        "\n",
        "        # Tách và kiểm tra kết quả\n",
        "        try:\n",
        "\n",
        "            #result = result.strip()\n",
        "            matches = re.search(r\"\\[(.*?)\\]\", result)\n",
        "            if matches:\n",
        "              extracted_content = matches.group(0)  # This will give you the full content inside the brackets\n",
        "              print(extracted_content)\n",
        "            else:\n",
        "              print(\"No square brackets found.\")\n",
        "            print(result)\n",
        "            extracted_list = ast.literal_eval(extracted_content)\n",
        "            if isinstance(extracted_list, list) and len(extracted_list) == 6:  # Kiểm tra định dạng với 6 phần tử\n",
        "                action, amount, date, category, description, new_description = extracted_list\n",
        "                if not description:  # Nếu không có mô tả từ người dùng\n",
        "                    latest_expense = load_latest_expense(user_id)  # Lấy chi tiêu mới nhất từ lịch sử\n",
        "                    if latest_expense:\n",
        "                        description = latest_expense['description']\n",
        "                # Kiểm tra ngày, nếu không có thì lấy ngày hôm nay\n",
        "                if date == '' or date == 'None' or date == 'today' or date == None:\n",
        "                    date = get_today_date()\n",
        "\n",
        "                # Lưu kết quả phân tích vào lịch sử (cùng với tin nhắn người dùng)\n",
        "                save_history(message, result)\n",
        "\n",
        "                return [action, amount, date, category, description, new_description]\n",
        "\n",
        "            else:\n",
        "                return \"Lỗi format\"\n",
        "        except Exception as e:\n",
        "            return f\"Lỗi tách data: {e}\"\n",
        "\n",
        "    except Exception as e:\n",
        "        return f\"Lỗi LLM: {e}\"\n"
      ]
    },
    {
      "cell_type": "code",
      "execution_count": null,
      "metadata": {
        "id": "2uJbipWWFzvI"
      },
      "outputs": [],
      "source": [
        "@bot.event\n",
        "async def on_message(message):\n",
        "    # Tránh bot tự đọc tin nhắn của bot\n",
        "    if message.author == bot.user:\n",
        "        return\n",
        "\n",
        "    user_id = str(message.author.id)\n",
        "    user_message = message.content\n",
        "    print(user_id)\n",
        "    print(user_message)\n",
        "\n",
        "    # Phân tích tin nhắn người dùng\n",
        "    llm_response = analyze_message_with_history(user_message, user_id)\n",
        "    print(llm_response)\n",
        "\n",
        "    if isinstance(llm_response, list):\n",
        "        action, amount, date, category, description, new_description = llm_response\n",
        "        if amount == '' or amount == None:\n",
        "            amount = 0  # Nếu không có giá trị amount thì gán bằng 0\n",
        "        print(amount)\n",
        "        amount = float(amount)\n",
        "\n",
        "        # Xử lý các hành động theo yêu cầu\n",
        "        if 'add' in action.lower():\n",
        "            save_expense_to_csv(user_id, date, category, amount, description, new_description)\n",
        "            response = \"Thêm thành công\"\n",
        "        elif 'update' in action.lower():\n",
        "          # Kiểm tra nếu chi tiêu cần update có tồn tại\n",
        "            if not check_expense_exists(user_id, date, category, description):\n",
        "                response = \"Bạn không có chi tiêu đó để cập nhật.\"\n",
        "            else:\n",
        "                update_expense(user_id, date, category, amount, description, new_description)\n",
        "                response = \"Cập nhật thành công\"\n",
        "        elif 'delete' in action.lower():\n",
        "            # Kiểm tra nếu chi tiêu cần xóa có tồn tại\n",
        "            if not check_expense_exists(user_id, date, category, description):\n",
        "                response = \"Bạn không có chi tiêu đó để xóa.\"\n",
        "            else:\n",
        "                delete_expense(user_id, date, category, description, new_description)\n",
        "                response = \"Xóa thành công\"\n",
        "        elif 'total' in action.lower():\n",
        "            # Kiểm tra nếu người dùng yêu cầu tổng chi tiêu cho tháng cụ thể\n",
        "            if date:\n",
        "                total_expenses = get_total_expenses_by_month(user_id, date)\n",
        "                response = f\"Tổng chi tiêu của bạn trong tháng {date} là: {total_expenses} VND.\"\n",
        "            else:\n",
        "                total_expenses = get_total_expenses_by_month(user_id, get_today_date())\n",
        "                response = f\"Tổng chi tiêu của bạn là: {total_expenses} VND.\"\n",
        "\n",
        "            # Nếu có category, tính tổng theo category\n",
        "            if category:\n",
        "                category_total = get_category_expenses_by_month(user_id, date, category)\n",
        "                response = f\"Tổng chi tiêu của bạn cho {category} trong tháng {date} là: {category_total} VND.\"\n",
        "        elif 'smonth' in action.lower():\n",
        "            # Lọc chi tiêu theo tháng\n",
        "            await send_month_csv_to_user(user_id,message.channel,filter_expenses_by_month(user_id, date))\n",
        "            os.remove(filter_expenses_by_month(user_id, date))\n",
        "        else:\n",
        "            response = \"Tôi không thể nhận dạng yêu cầu của bạn.\"\n",
        "\n",
        "        await message.channel.send(response)\n",
        "\n",
        "        await send_csv_to_user(user_id, message.channel)\n",
        "\n",
        "    else:\n",
        "        await message.channel.send(f\"Đã xảy ra lỗi khi xử lý yêu cầu của bạn: {llm_response}\")\n"
      ]
    },
    {
      "cell_type": "code",
      "execution_count": null,
      "metadata": {
        "colab": {
          "background_save": true,
          "base_uri": "https://localhost:8080/"
        },
        "id": "M18RCTJAFzi_",
        "outputId": "18f751e7-e4de-4e6e-df84-e7e5482352c9"
      },
      "outputs": [
        {
          "name": "stdout",
          "output_type": "stream",
          "text": [
            "887283252153417739\n",
            "60k cơ\n",
            "['update', 60000, '', '', '', '']\n",
            "['update', 60000, '', '', '', '']\n",
            "['update', 60000, '2025-03-15', '', 'ăn bún bò', '']\n",
            "60000\n",
            "Update successfully\n"
          ]
        },
        {
          "name": "stderr",
          "output_type": "stream",
          "text": [
            "WARNING:discord.gateway:Shard ID None has stopped responding to the gateway. Closing and restarting.\n",
            "ERROR:asyncio:Unclosed client session\n",
            "client_session: <aiohttp.client.ClientSession object at 0x7a7582752450>\n"
          ]
        },
        {
          "name": "stdout",
          "output_type": "stream",
          "text": [
            "887283252153417739\n",
            "23/5/2025 ăn sáng 50k\n",
            "['add', 50000, '2025-05-23', 'food', 'ăn sáng', '']\n",
            "['add', 50000, '2025-05-23', 'food', 'ăn sáng', '']\n",
            "['add', 50000, '2025-05-23', 'food', 'ăn sáng', '']\n",
            "50000\n",
            "887283252153417739\n",
            "ăn sáng vào ngày hôm nay mới đúng\n",
            "['update', '', '', 'food', '', 'ăn sáng']\n",
            "['update', '', '', 'food', '', 'ăn sáng']\n",
            "['update', '', '2025-03-15', 'food', 'ăn sáng', 'ăn sáng']\n",
            "0\n",
            "887283252153417739\n",
            "5/6/2023 mua xe 600tr\n",
            "['add', 600000000, '2023-06-05', 'transportation', 'mua xe', '']\n",
            "['add', 600000000, '2023-06-05', 'transportation', 'mua xe', '']\n",
            "['add', 600000000, '2023-06-05', 'transportation', 'mua xe', '']\n",
            "600000000\n"
          ]
        }
      ],
      "source": [
        "async def main():\n",
        "    await bot.start('BOT_TOKEN')\n",
        "\n",
        "asyncio.run(main())"
      ]
    }
  ],
  "metadata": {
    "colab": {
      "provenance": []
    },
    "kernelspec": {
      "display_name": "Python 3",
      "name": "python3"
    },
    "language_info": {
      "name": "python"
    }
  },
  "nbformat": 4,
  "nbformat_minor": 0
}